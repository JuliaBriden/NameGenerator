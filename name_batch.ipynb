{
 "cells": [
  {
   "cell_type": "code",
   "execution_count": null,
   "metadata": {},
   "outputs": [],
   "source": []
  },
  {
   "cell_type": "markdown",
   "metadata": {},
   "source": [
    "## Importing modules"
   ]
  },
  {
   "cell_type": "code",
   "execution_count": 50,
   "metadata": {},
   "outputs": [],
   "source": [
    "import os\n",
    "import time\n",
    "import math\n",
    "import string\n",
    "import random"
   ]
  },
  {
   "cell_type": "code",
   "execution_count": 51,
   "metadata": {},
   "outputs": [],
   "source": [
    "import collections\n",
    "import numpy as np\n",
    "import matplotlib.pyplot as plt"
   ]
  },
  {
   "cell_type": "code",
   "execution_count": 52,
   "metadata": {},
   "outputs": [],
   "source": [
    "import torch\n",
    "from torch import nn\n",
    "from torch import optim\n",
    "from torch.functional import F\n",
    "from torch.utils.data import DataLoader"
   ]
  },
  {
   "cell_type": "code",
   "execution_count": null,
   "metadata": {},
   "outputs": [],
   "source": []
  },
  {
   "cell_type": "code",
   "execution_count": 53,
   "metadata": {},
   "outputs": [],
   "source": [
    "from utils import evaluate\n",
    "from utils import training"
   ]
  },
  {
   "cell_type": "code",
   "execution_count": 54,
   "metadata": {},
   "outputs": [],
   "source": [
    "from importlib import reload"
   ]
  },
  {
   "cell_type": "code",
   "execution_count": null,
   "metadata": {},
   "outputs": [],
   "source": []
  },
  {
   "cell_type": "markdown",
   "metadata": {},
   "source": [
    "## Loading data"
   ]
  },
  {
   "cell_type": "code",
   "execution_count": 55,
   "metadata": {},
   "outputs": [],
   "source": [
    "data_dict_re = torch.load(\"./saves/data/clean_names_starwars.pt\")"
   ]
  },
  {
   "cell_type": "code",
   "execution_count": 56,
   "metadata": {},
   "outputs": [],
   "source": [
    "data_in_char = data_dict_re[\"data_in_char\"]\n",
    "char_vocab = data_dict_re[\"char_vocab\"]"
   ]
  },
  {
   "cell_type": "code",
   "execution_count": 57,
   "metadata": {},
   "outputs": [
    {
     "name": "stdout",
     "output_type": "stream",
     "text": [
      "data length: 5334\n",
      "vocab size: 52\n"
     ]
    }
   ],
   "source": [
    "print(\"data length:\", len(data_in_char))\n",
    "print(\"vocab size:\", len(char_vocab))"
   ]
  },
  {
   "cell_type": "code",
   "execution_count": 58,
   "metadata": {
    "scrolled": false
   },
   "outputs": [
    {
     "name": "stdout",
     "output_type": "stream",
     "text": [
      "[['1', '1', '3', '8', ' ', ' ', '(', 'f', 'i', 'r', 's', 't', ' ', 'o', 'r', 'd', 'e', 'r', ')', '<EOS>'], ['1', '1', '5', '1', '<EOS>'], ['1', '1', '7', '4', '<EOS>'], ['2', '2', '4', ' ', ' ', '(', 'c', 'o', 'r', 'u', 's', 'c', 'a', 'n', 't', ' ', 's', 'e', 'c', 'u', 'r', 'i', 't', 'y', ' ', 'f', 'o', 'r', 'c', 'e', ')', '<EOS>'], ['3', '-', '6', '<EOS>']]\n"
     ]
    }
   ],
   "source": [
    "print(data_in_char[:5])"
   ]
  },
  {
   "cell_type": "code",
   "execution_count": 59,
   "metadata": {},
   "outputs": [],
   "source": [
    "char_to_ix = {ch:i for i,ch in enumerate(char_vocab)}\n",
    "ix_to_char = {i:ch for ch,i in char_to_ix.items()}"
   ]
  },
  {
   "cell_type": "code",
   "execution_count": 60,
   "metadata": {},
   "outputs": [
    {
     "data": {
      "text/plain": [
       "{0: '<EOS>',\n",
       " 1: ' ',\n",
       " 2: '\"',\n",
       " 3: \"'\",\n",
       " 4: '(',\n",
       " 5: ')',\n",
       " 6: ',',\n",
       " 7: '-',\n",
       " 8: '.',\n",
       " 9: '/',\n",
       " 10: '0',\n",
       " 11: '1',\n",
       " 12: '2',\n",
       " 13: '3',\n",
       " 14: '4',\n",
       " 15: '5',\n",
       " 16: '6',\n",
       " 17: '7',\n",
       " 18: '8',\n",
       " 19: '9',\n",
       " 20: 'a',\n",
       " 21: 'b',\n",
       " 22: 'c',\n",
       " 23: 'd',\n",
       " 24: 'e',\n",
       " 25: 'f',\n",
       " 26: 'g',\n",
       " 27: 'h',\n",
       " 28: 'i',\n",
       " 29: 'j',\n",
       " 30: 'k',\n",
       " 31: 'l',\n",
       " 32: 'm',\n",
       " 33: 'n',\n",
       " 34: 'o',\n",
       " 35: 'p',\n",
       " 36: 'q',\n",
       " 37: 'r',\n",
       " 38: 's',\n",
       " 39: 't',\n",
       " 40: 'u',\n",
       " 41: 'v',\n",
       " 42: 'w',\n",
       " 43: 'x',\n",
       " 44: 'y',\n",
       " 45: 'z',\n",
       " 46: 'á',\n",
       " 47: 'é',\n",
       " 48: 'í',\n",
       " 49: 'î',\n",
       " 50: 'ó',\n",
       " 51: '<PAD>'}"
      ]
     },
     "execution_count": 60,
     "metadata": {},
     "output_type": "execute_result"
    }
   ],
   "source": [
    "ix_to_char"
   ]
  },
  {
   "cell_type": "code",
   "execution_count": 61,
   "metadata": {},
   "outputs": [],
   "source": [
    "class Dataset(torch.utils.data.Dataset):\n",
    "    def __init__(self, data_as_str, _map, batched):\n",
    "        self.batched = batched\n",
    "        \n",
    "        self.data_as_int = []\n",
    "        self.max_seqlen = float(\"-inf\")\n",
    "        self.min_seqlen = float(\"inf\")\n",
    "        \n",
    "        # Convert data to integers\n",
    "        for seq_as_str in data_as_str:\n",
    "            seq_as_int = evaluate.keys_to_values(seq_as_str, _map,\n",
    "                random.choice(list(_map)))\n",
    "            \n",
    "            self.data_as_int.append(seq_as_int)\n",
    "            self.max_seqlen = max(self.max_seqlen, len(seq_as_int)-1)\n",
    "            self.min_seqlen = min(self.min_seqlen, len(seq_as_int)-1)\n",
    "\n",
    "    def __len__(self):\n",
    "        return len(self.data_as_int)\n",
    "\n",
    "    def __getitem__(self, ix):\n",
    "        # Get data sample at index, ix\n",
    "        item = self.data_as_int[ix]\n",
    "        PAD_ix = char_to_ix[\"<PAD>\"]\n",
    "        \n",
    "        # Slice x and y from sample\n",
    "        x_pad = item[:-1]\n",
    "        x_len = len(x_pad)\n",
    "        y_pad = item[ 1:]\n",
    "        \n",
    "        # Pad x and y to self.max_seqlen, if self.batched is True\n",
    "        if self.batched:\n",
    "            x_pad += ([PAD_ix] * (self.max_seqlen - len(x_pad)))\n",
    "            y_pad += ([PAD_ix] * (self.max_seqlen - len(y_pad)))\n",
    "            \n",
    "        return (torch.tensor(x_pad), torch.tensor(x_len)), torch.tensor(y_pad)"
   ]
  },
  {
   "cell_type": "code",
   "execution_count": 62,
   "metadata": {
    "scrolled": true
   },
   "outputs": [],
   "source": [
    "dataset = Dataset(data_in_char, char_to_ix, batched=True)\n",
    "dataloader = DataLoader(dataset, 16, True)"
   ]
  },
  {
   "cell_type": "code",
   "execution_count": 63,
   "metadata": {},
   "outputs": [
    {
     "name": "stdout",
     "output_type": "stream",
     "text": [
      "Dataset size: 5334\n",
      "Max sequence length: 71\n",
      "Min sequence length: 2\n"
     ]
    }
   ],
   "source": [
    "print(\"Dataset size:\", len(dataset))\n",
    "print(\"Max sequence length:\", dataset.max_seqlen)\n",
    "print(\"Min sequence length:\", dataset.min_seqlen)"
   ]
  },
  {
   "cell_type": "markdown",
   "metadata": {},
   "source": [
    "## Model"
   ]
  },
  {
   "cell_type": "code",
   "execution_count": 64,
   "metadata": {},
   "outputs": [],
   "source": [
    "class Model(nn.Module):\n",
    "    def __init__(self, _map, hidden_size, emb_dim=8, n_layers=1, dropout_p=0.2):\n",
    "        \"\"\"\n",
    "        Input:\n",
    "            _map: char_to_ix.\n",
    "            hidden_size: Number of features to learn.\n",
    "            emb_dim: Size of embedding vector.\n",
    "            n_layers: Number of layers.\n",
    "            dropout_p: Dropout probability.\n",
    "        \"\"\"\n",
    "        super(Model, self).__init__()\n",
    "        \n",
    "        self.vocab_size  = len(_map)\n",
    "        self.hidden_size = hidden_size\n",
    "        self.emb_dim     = emb_dim\n",
    "        self.n_layers    = n_layers\n",
    "        self.dropout_p   = dropout_p\n",
    "        \n",
    "        self.embedding = nn.Embedding(\n",
    "            num_embeddings=self.vocab_size,\n",
    "            embedding_dim =self.emb_dim,\n",
    "            padding_idx   =_map[\"<PAD>\"])\n",
    "        \n",
    "        self.lstm = nn.LSTM(\n",
    "            input_size =self.emb_dim,\n",
    "            hidden_size=self.hidden_size,\n",
    "            num_layers =self.n_layers,\n",
    "            batch_first=True)\n",
    "        \n",
    "        self.dropout = nn.Dropout(self.dropout_p)\n",
    "        \n",
    "        self.fc = nn.Linear(\n",
    "            in_features =self.hidden_size,\n",
    "            out_features=self.vocab_size - 1)\n",
    "        \n",
    "    def forward(self, x, prev_state):\n",
    "        \"\"\"\n",
    "        Input:\n",
    "            x: (x, x_len)\n",
    "            prev_state: The previous state.\n",
    "            \n",
    "        Output:\n",
    "            out: The output of the model.\n",
    "            state: The current state.\n",
    "        \"\"\"\n",
    "        n_b, n_s = x[0].shape\n",
    "        batched = True if (n_b>1 or len(x)>1) else False\n",
    "        \n",
    "        embed = self.embedding(x[0])\n",
    "        \n",
    "        # Pack-pad embeddings if x is batched\n",
    "        if batched:\n",
    "            embed = nn.utils.rnn.pack_padded_sequence(\n",
    "                embed, x[1], True, False)\n",
    "            \n",
    "        yhat, state = self.lstm(embed, prev_state)\n",
    "        \n",
    "        # Un-pack-pad the lstm output\n",
    "        if batched:\n",
    "            yhat, _ = nn.utils.rnn.pad_packed_sequence(\n",
    "                yhat, True, total_length=n_s)\n",
    "            \n",
    "        yhat = self.dropout(yhat)\n",
    "        out = self.fc(yhat)\n",
    "        return out, state\n",
    "    \n",
    "    def init_state(self, b_size=1):\n",
    "        return (torch.zeros(self.n_layers, b_size, self.hidden_size),\n",
    "                torch.zeros(self.n_layers, b_size, self.hidden_size))"
   ]
  },
  {
   "cell_type": "code",
   "execution_count": 65,
   "metadata": {
    "scrolled": false
   },
   "outputs": [
    {
     "data": {
      "text/plain": [
       "Model(\n",
       "  (embedding): Embedding(52, 8, padding_idx=51)\n",
       "  (lstm): LSTM(8, 64, num_layers=3, batch_first=True)\n",
       "  (dropout): Dropout(p=0.2, inplace=False)\n",
       "  (fc): Linear(in_features=64, out_features=51, bias=True)\n",
       ")"
      ]
     },
     "execution_count": 65,
     "metadata": {},
     "output_type": "execute_result"
    }
   ],
   "source": [
    "model = Model(char_to_ix, 64, 8, n_layers=3, dropout_p=0.2)\n",
    "model"
   ]
  },
  {
   "cell_type": "code",
   "execution_count": null,
   "metadata": {},
   "outputs": [],
   "source": []
  },
  {
   "cell_type": "code",
   "execution_count": 66,
   "metadata": {},
   "outputs": [],
   "source": [
    "loss_history = []"
   ]
  },
  {
   "cell_type": "code",
   "execution_count": null,
   "metadata": {},
   "outputs": [],
   "source": []
  },
  {
   "cell_type": "markdown",
   "metadata": {},
   "source": [
    "## Loading and Saving Model"
   ]
  },
  {
   "cell_type": "code",
   "execution_count": 67,
   "metadata": {},
   "outputs": [],
   "source": [
    "def load_model(path):\n",
    "    m_data = torch.load(path)\n",
    "    \n",
    "    m = Model(\n",
    "        _map       =m_data[\"_map\"],\n",
    "        hidden_size=m_data[\"hidden_size\"],\n",
    "        emb_dim    =m_data[\"emb_dim\"],\n",
    "        n_layers   =m_data[\"n_layers\"],\n",
    "        dropout_p  =m_data[\"dropout_p\"])\n",
    "    \n",
    "    m.load_state_dict(m_data[\"state_dict\"])\n",
    "    l_hist = m_data[\"loss_history\"]\n",
    "    return m, l_hist"
   ]
  },
  {
   "cell_type": "markdown",
   "metadata": {},
   "source": [
    "**Uncomment cell to load the trained model**"
   ]
  },
  {
   "cell_type": "code",
   "execution_count": 33,
   "metadata": {},
   "outputs": [],
   "source": [
    " model, loss_history = load_model(\"./saves/model/name_batch_starwars.pt\")\n",
    " "
   ]
  },
  {
   "cell_type": "code",
   "execution_count": null,
   "metadata": {},
   "outputs": [],
   "source": []
  },
  {
   "cell_type": "code",
   "execution_count": 68,
   "metadata": {},
   "outputs": [],
   "source": [
    "def save_model(m, l_hist, _map, path=None):\n",
    "    if not path: path = \"./saves/model/name_batch_starwars.pt\"\n",
    "        \n",
    "    m_data = {\n",
    "        \"_map\"        : _map,\n",
    "        \"hidden_size\" : m.hidden_size,\n",
    "        \"emb_dim\"     : m.emb_dim,\n",
    "        \"n_layers\"    : m.n_layers,\n",
    "        \"dropout_p\"   : m.dropout_p,\n",
    "        \"state_dict\"  : m.state_dict(),\n",
    "        \"loss_history\": l_hist}\n",
    "    torch.save(m_data, path)"
   ]
  },
  {
   "cell_type": "code",
   "execution_count": null,
   "metadata": {},
   "outputs": [],
   "source": []
  },
  {
   "cell_type": "markdown",
   "metadata": {},
   "source": [
    "## Training"
   ]
  },
  {
   "cell_type": "code",
   "execution_count": 69,
   "metadata": {},
   "outputs": [],
   "source": [
    "criterion = nn.CrossEntropyLoss(ignore_index=char_to_ix[\"<PAD>\"])"
   ]
  },
  {
   "cell_type": "code",
   "execution_count": 70,
   "metadata": {},
   "outputs": [
    {
     "data": {
      "text/plain": [
       "<torch.utils.data.dataloader.DataLoader at 0x7f1604089c10>"
      ]
     },
     "execution_count": 70,
     "metadata": {},
     "output_type": "execute_result"
    }
   ],
   "source": [
    "dataloader"
   ]
  },
  {
   "cell_type": "code",
   "execution_count": 71,
   "metadata": {
    "scrolled": true
   },
   "outputs": [
    {
     "name": "stdout",
     "output_type": "stream",
     "text": [
      "Iteration:  200/1000, Loss:   3.2502\n",
      "Iteration:  400/1000, Loss:   3.0529\n",
      "Iteration:  600/1000, Loss:   2.8638\n",
      "Iteration:  800/1000, Loss:   2.6501\n",
      "Iteration: 1000/1000, Loss:   2.5176\n",
      "\n",
      "==================================================\n",
      "Round:  1 of 10, Running Time:   41.62 sec\n",
      "==================================================\n",
      "\n",
      "Iteration:  200/1000, Loss:   2.4292\n",
      "Iteration:  400/1000, Loss:   2.4022\n",
      "Iteration:  600/1000, Loss:   2.3449\n",
      "Iteration:  800/1000, Loss:   2.3182\n",
      "Iteration: 1000/1000, Loss:   2.2891\n",
      "\n",
      "==================================================\n",
      "Round:  2 of 10, Running Time:   83.15 sec\n",
      "==================================================\n",
      "\n",
      "Iteration:  200/1000, Loss:   2.2520\n",
      "Iteration:  400/1000, Loss:   2.2434\n",
      "Iteration:  600/1000, Loss:   2.2065\n",
      "Iteration:  800/1000, Loss:   2.1986\n",
      "Iteration: 1000/1000, Loss:   2.1623\n",
      "\n",
      "==================================================\n",
      "Round:  3 of 10, Running Time:  133.60 sec\n",
      "==================================================\n",
      "\n",
      "Iteration:  200/1000, Loss:   2.1604\n",
      "Iteration:  400/1000, Loss:   2.1518\n",
      "Iteration:  600/1000, Loss:   2.1199\n",
      "Iteration:  800/1000, Loss:   2.1068\n",
      "Iteration: 1000/1000, Loss:   2.0979\n",
      "\n",
      "==================================================\n",
      "Round:  4 of 10, Running Time:  174.74 sec\n",
      "==================================================\n",
      "\n",
      "Iteration:  200/1000, Loss:   2.1062\n",
      "Iteration:  400/1000, Loss:   2.0790\n",
      "Iteration:  600/1000, Loss:   2.0533\n",
      "Iteration:  800/1000, Loss:   2.0589\n",
      "Iteration: 1000/1000, Loss:   2.0372\n",
      "\n",
      "==================================================\n",
      "Round:  5 of 10, Running Time:  216.04 sec\n",
      "==================================================\n",
      "\n",
      "Iteration:  200/1000, Loss:   2.0269\n",
      "Iteration:  400/1000, Loss:   2.0204\n",
      "Iteration:  600/1000, Loss:   2.0246\n",
      "Iteration:  800/1000, Loss:   1.9841\n",
      "Iteration: 1000/1000, Loss:   2.0047\n",
      "\n",
      "==================================================\n",
      "Round:  6 of 10, Running Time:  256.21 sec\n",
      "==================================================\n",
      "\n",
      "Iteration:  200/1000, Loss:   1.9977\n",
      "Iteration:  400/1000, Loss:   1.9657\n",
      "Iteration:  600/1000, Loss:   1.9762\n",
      "Iteration:  800/1000, Loss:   1.9661\n",
      "Iteration: 1000/1000, Loss:   1.9392\n",
      "\n",
      "==================================================\n",
      "Round:  7 of 10, Running Time:  301.06 sec\n",
      "==================================================\n",
      "\n",
      "Iteration:  200/1000, Loss:   1.9378\n",
      "Iteration:  400/1000, Loss:   1.9348\n",
      "Iteration:  600/1000, Loss:   1.9351\n",
      "Iteration:  800/1000, Loss:   1.9203\n",
      "Iteration: 1000/1000, Loss:   1.9143\n",
      "\n",
      "==================================================\n",
      "Round:  8 of 10, Running Time:  346.40 sec\n",
      "==================================================\n",
      "\n",
      "Iteration:  200/1000, Loss:   1.8938\n",
      "Iteration:  400/1000, Loss:   1.9020\n",
      "Iteration:  600/1000, Loss:   1.9051\n",
      "Iteration:  800/1000, Loss:   1.8844\n",
      "Iteration: 1000/1000, Loss:   1.8725\n",
      "\n",
      "==================================================\n",
      "Round:  9 of 10, Running Time:  388.43 sec\n",
      "==================================================\n",
      "\n",
      "Iteration:  200/1000, Loss:   1.8695\n",
      "Iteration:  400/1000, Loss:   1.8616\n",
      "Iteration:  600/1000, Loss:   1.8702\n",
      "Iteration:  800/1000, Loss:   1.8296\n",
      "Iteration: 1000/1000, Loss:   1.8642\n",
      "\n",
      "==================================================\n",
      "Round: 10 of 10, Running Time:  431.65 sec\n",
      "==================================================\n",
      "\n"
     ]
    }
   ],
   "source": [
    "iteration = 10000\n",
    "per_iter = 1000\n",
    "start_t = time.time()\n",
    "\n",
    "for _ti in range(iteration//per_iter):\n",
    "    model, costs = training.train(\n",
    "        model, dataloader, per_iter, criterion, clip=0.25, lr=1e-3, print_every=200)\n",
    "    \n",
    "    loss_history.extend(costs)\n",
    "    save_model(model, loss_history, char_to_ix)\n",
    "    time.sleep(5)\n",
    "    \n",
    "    print(\"\\n\" + \"=\"*50)\n",
    "    print(\"Round: {:2} of {:2}, Running Time: {:7.2f} sec\".format(\n",
    "        _ti+1, iteration//per_iter, time.time() - start_t))\n",
    "    print(\"=\"*50 + \"\\n\")"
   ]
  },
  {
   "cell_type": "code",
   "execution_count": null,
   "metadata": {},
   "outputs": [],
   "source": []
  },
  {
   "cell_type": "code",
   "execution_count": 72,
   "metadata": {
    "scrolled": true
   },
   "outputs": [
    {
     "data": {
      "text/plain": [
       "[<matplotlib.lines.Line2D at 0x7f15f4142040>]"
      ]
     },
     "execution_count": 72,
     "metadata": {},
     "output_type": "execute_result"
    },
    {
     "data": {
      "image/png": "[encoded data removed]",
      "text/plain": [
       "<Figure size 432x288 with 1 Axes>"
      ]
     },
     "metadata": {
      "needs_background": "light"
     },
     "output_type": "display_data"
    }
   ],
   "source": [
    "cum = 50\n",
    "plt.xlabel(\"Iteration\")\n",
    "plt.ylabel(\"Cross-Entropy Loss\")\n",
    "plt.plot(\n",
    "    [sum(loss_history[i:i+cum])/cum for i in range(0, len(loss_history), cum)])"
   ]
  },
  {
   "cell_type": "code",
   "execution_count": 73,
   "metadata": {
    "scrolled": false
   },
   "outputs": [
    {
     "name": "stdout",
     "output_type": "stream",
     "text": [
      "Iter: 10000 | Min: 1.2025 | Max: 3.9393 | Last: 1.9285 | Ave: 2.1291\n"
     ]
    }
   ],
   "source": [
    "print(\"Iter: {} | Min: {:.4f} | Max: {:.4f} | Last: {:.4f} | Ave: {:.4f}\".format(\n",
    "    len(loss_history), min(loss_history), max(loss_history), loss_history[-1],\n",
    "    sum(loss_history)/len(loss_history)))"
   ]
  },
  {
   "cell_type": "code",
   "execution_count": null,
   "metadata": {},
   "outputs": [],
   "source": []
  },
  {
   "cell_type": "markdown",
   "metadata": {},
   "source": [
    "## Evaluating"
   ]
  },
  {
   "cell_type": "code",
   "execution_count": 74,
   "metadata": {},
   "outputs": [],
   "source": [
    "n_samp = 100\n",
    "ix_list = list(char_to_ix.values())[1:-1]"
   ]
  },
  {
   "cell_type": "code",
   "execution_count": 75,
   "metadata": {},
   "outputs": [
    {
     "name": "stdout",
     "output_type": "stream",
     "text": [
      "Duplicates: 2 of 100\n",
      "  2.00% recall\n",
      " 98.00% original\n"
     ]
    }
   ],
   "source": [
    "originality = evaluate.originality(\n",
    "    n_samp, dataset.data_as_int, evaluate.sample, model, ix_list,\n",
    "    4, False, dataset.max_seqlen, char_to_ix[\"<EOS>\"])"
   ]
  },
  {
   "cell_type": "code",
   "execution_count": null,
   "metadata": {},
   "outputs": [],
   "source": []
  },
  {
   "cell_type": "markdown",
   "metadata": {},
   "source": [
    "Initialise sampling with a **randomly chosen character**"
   ]
  },
  {
   "cell_type": "code",
   "execution_count": 76,
   "metadata": {
    "scrolled": false
   },
   "outputs": [
    {
     "name": "stdout",
     "output_type": "stream",
     "text": [
      "v => vil daster<EOS>\n",
      "c => chusso<EOS>\n",
      "k => kithor<EOS>\n",
      "9 => 9nio ganano<EOS>\n",
      "a => alina sono<EOS>\n",
      "l => lan karla<EOS>\n",
      "7 => 73olon<EOS>\n",
      "é => éinner donder<EOS>\n",
      "x => xaran<EOS>\n",
      "v => varinia dansa<EOS>\n",
      "7 => 73leek<EOS>\n",
      "' => ' (nan tistin<EOS>\n",
      "n => neeker<EOS>\n",
      "d => della family<EOS>\n",
      "d => durgor  (clone staacectict)<EOS>\n",
      "m => morin stris<EOS>\n",
      "8 => 8oti booner  (tad calhar)<EOS>\n",
      "î => îtalanker<EOS>\n",
      "e => enlus dalal<EOS>\n",
      "á => áors<EOS>\n",
      "q => qaero<EOS>\n",
      ", => ,pull<EOS>\n",
      "1 => 1021<EOS>\n",
      "á => áara<EOS>\n",
      "y => yushel  (chadess)<EOS>\n",
      "e => edle mordan<EOS>\n",
      "e => edenth family<EOS>\n",
      "8 => 8lusher  (fescan triepor)<EOS>\n",
      "\" => \"ranta<EOS>\n",
      "k => karin kesh<EOS>\n"
     ]
    }
   ],
   "source": [
    "for i in range(30):\n",
    "    seed = random.choice(ix_list)\n",
    "    \n",
    "    print(ix_to_char[seed], \"=>\", \"\".join(evaluate.keys_to_values(\n",
    "        evaluate.sample(model, seed, 5, False, 30, char_to_ix[\"<EOS>\"]),\n",
    "        ix_to_char, \"<?>\")))"
   ]
  },
  {
   "cell_type": "code",
   "execution_count": null,
   "metadata": {},
   "outputs": [],
   "source": []
  },
  {
   "cell_type": "markdown",
   "metadata": {},
   "source": [
    "Initialise sampling with **a list of characters** instead of a single character"
   ]
  },
  {
   "cell_type": "code",
   "execution_count": 81,
   "metadata": {
    "scrolled": false
   },
   "outputs": [
    {
     "name": "stdout",
     "output_type": "stream",
     "text": [
      "james => james  (toy's scoettan)<EOS>\n",
      "james => jamessi<EOS>\n",
      "james => james  (clant)<EOS>\n",
      "james => james  (clonian)<EOS>\n",
      "james => james<EOS>\n",
      "james => james  (clone noudg)<EOS>\n",
      "james => jamest<EOS>\n",
      "james => jamest shalat<EOS>\n",
      "james => james<EOS>\n",
      "james => james  (hevest cipel)<EOS>\n"
     ]
    }
   ],
   "source": [
    "for i in range(10):\n",
    "    word = \"james\"\n",
    "    seed = evaluate.keys_to_values(list(word), char_to_ix, char_to_ix[\"<PAD>\"])\n",
    "    \n",
    "    print(word, \"=>\", \"\".join(evaluate.keys_to_values(\n",
    "        evaluate.sample(model, seed, 5, False, 30, char_to_ix[\"<EOS>\"]),\n",
    "        ix_to_char, \"<?>\")))"
   ]
  },
  {
   "cell_type": "code",
   "execution_count": null,
   "metadata": {},
   "outputs": [],
   "source": []
  },
  {
   "cell_type": "markdown",
   "metadata": {},
   "source": [
    "Sample the next **most likely character** instead of the next **topk most likely characters**"
   ]
  },
  {
   "cell_type": "code",
   "execution_count": 82,
   "metadata": {
    "scrolled": false
   },
   "outputs": [
    {
     "name": "stdout",
     "output_type": "stream",
     "text": [
      "<EOS> => <EOS>reek dand<EOS>\n",
      "----  =>  (3londa<EOS>\n",
      "----\" => \"rook<EOS>\n",
      "----' => ' (naran sele<EOS>\n",
      "----( => (1200<EOS>\n",
      "----) => )arda<EOS>\n",
      "----, => ,star sender<EOS>\n",
      "----- => -(000000<EOS>\n",
      "----. => .arin kallen<EOS>\n",
      "----/ => /((((00090<EOS>\n",
      "----0 => 0111<EOS>\n",
      "----1 => 111<EOS>\n",
      "----2 => 2por dentor<EOS>\n",
      "----3 => 3ora shar<EOS>\n",
      "----4 => 4lo treet<EOS>\n",
      "----5 => 5rin bell<EOS>\n",
      "----6 => 6al treet<EOS>\n",
      "----7 => 7lora  (clone trooper)<EOS>\n",
      "----8 => 8lin sonda<EOS>\n",
      "----9 => 9shar sen<EOS>\n",
      "----a => arra shallen<EOS>\n",
      "----b => born  (clone trooper)<EOS>\n",
      "----c => calla tarren<EOS>\n",
      "----d => darth marth<EOS>\n",
      "----e => ella tarlen<EOS>\n",
      "----f => farna<EOS>\n",
      "----g => green dean<EOS>\n",
      "----h => harra shander<EOS>\n",
      "----i => irrin deran<EOS>\n",
      "----j => jan tee<EOS>\n",
      "----k => karin kallen<EOS>\n",
      "----l => loran sender<EOS>\n",
      "----m => marin karrin<EOS>\n",
      "----n => nara  (chalat)<EOS>\n",
      "----o => orin bell<EOS>\n",
      "----p => para shee<EOS>\n",
      "----q => qora  (clone trooper)<EOS>\n",
      "----r => ran taran<EOS>\n",
      "----s => shara  (challent)<EOS>\n",
      "----t => tan tank<EOS>\n",
      "----u => unidentified imperial officer \n",
      "----v => varta tarsen<EOS>\n",
      "----w => warda born<EOS>\n",
      "----x => xarin stalle<EOS>\n",
      "----y => yarin star<EOS>\n",
      "----z => zard dant<EOS>\n",
      "----á => áara sherren<EOS>\n",
      "----é => éarra shallen<EOS>\n",
      "----í => ínider  (clone trooper)<EOS>\n",
      "----î => îcartin banan<EOS>\n",
      "----ó => óalen sender<EOS>\n",
      "<PAD> => <PAD>arin bell<EOS>\n"
     ]
    }
   ],
   "source": [
    "for ch in char_vocab:\n",
    "    seed = char_to_ix[ch]\n",
    "    \n",
    "    print(\"{:->5}\".format(ch), \"=>\", \"\".join(evaluate.keys_to_values(\n",
    "        evaluate.sample(model, seed, 1, True, 30, char_to_ix[\"<EOS>\"]),\n",
    "        ix_to_char, \"<?>\")))"
   ]
  },
  {
   "cell_type": "code",
   "execution_count": null,
   "metadata": {},
   "outputs": [],
   "source": []
  },
  {
   "cell_type": "code",
   "execution_count": null,
   "metadata": {},
   "outputs": [],
   "source": []
  },
  {
   "cell_type": "code",
   "execution_count": null,
   "metadata": {},
   "outputs": [],
   "source": []
  },
  {
   "cell_type": "code",
   "execution_count": null,
   "metadata": {},
   "outputs": [],
   "source": []
  },
  {
   "cell_type": "code",
   "execution_count": null,
   "metadata": {},
   "outputs": [],
   "source": []
  }
 ],
 "metadata": {
  "kernelspec": {
   "display_name": "Python 3",
   "language": "python",
   "name": "python3"
  },
  "language_info": {
   "codemirror_mode": {
    "name": "ipython",
    "version": 3
   },
   "file_extension": ".py",
   "mimetype": "text/x-python",
   "name": "python",
   "nbconvert_exporter": "python",
   "pygments_lexer": "ipython3",
   "version": "3.8.5"
  },
  "latex_envs": {
   "LaTeX_envs_menu_present": true,
   "autoclose": false,
   "autocomplete": true,
   "bibliofile": "biblio.bib",
   "cite_by": "apalike",
   "current_citInitial": 1,
   "eqLabelWithNumbers": true,
   "eqNumInitial": 1,
   "hotkeys": {
    "equation": "Ctrl-E",
    "itemize": "Ctrl-I"
   },
   "labels_anchors": false,
   "latex_user_defs": false,
   "report_style_numbering": false,
   "user_envs_cfg": false
  },
  "toc": {
   "base_numbering": 1,
   "nav_menu": {},
   "number_sections": true,
   "sideBar": true,
   "skip_h1_title": false,
   "title_cell": "Table of Contents",
   "title_sidebar": "Contents",
   "toc_cell": false,
   "toc_position": {},
   "toc_section_display": true,
   "toc_window_display": false
  },
  "varInspector": {
   "cols": {
    "lenName": 16,
    "lenType": 16,
    "lenVar": 40
   },
   "kernels_config": {
    "python": {
     "delete_cmd_postfix": "",
     "delete_cmd_prefix": "del ",
     "library": "var_list.py",
     "varRefreshCmd": "print(var_dic_list())"
    },
    "r": {
     "delete_cmd_postfix": ") ",
     "delete_cmd_prefix": "rm(",
     "library": "var_list.r",
     "varRefreshCmd": "cat(var_dic_list()) "
    }
   },
   "types_to_exclude": [
    "module",
    "function",
    "builtin_function_or_method",
    "instance",
    "_Feature"
   ],
   "window_display": false
  }
 },
 "nbformat": 4,
 "nbformat_minor": 4
}
