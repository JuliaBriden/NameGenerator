{
 "cells": [
  {
   "cell_type": "code",
   "execution_count": null,
   "metadata": {},
   "outputs": [],
   "source": []
  },
  {
   "cell_type": "markdown",
   "metadata": {},
   "source": [
    "## Importing modules"
   ]
  },
  {
   "cell_type": "code",
   "execution_count": 1,
   "metadata": {},
   "outputs": [],
   "source": [
    "import os\n",
    "import time\n",
    "import math\n",
    "import string\n",
    "import random"
   ]
  },
  {
   "cell_type": "code",
   "execution_count": 2,
   "metadata": {},
   "outputs": [],
   "source": [
    "import collections\n",
    "import numpy as np\n",
    "import matplotlib.pyplot as plt"
   ]
  },
  {
   "cell_type": "code",
   "execution_count": 3,
   "metadata": {},
   "outputs": [],
   "source": [
    "import torch\n",
    "from torch import nn\n",
    "from torch import optim\n",
    "from torch.functional import F\n",
    "from torch.utils.data import DataLoader"
   ]
  },
  {
   "cell_type": "code",
   "execution_count": null,
   "metadata": {},
   "outputs": [],
   "source": []
  },
  {
   "cell_type": "code",
   "execution_count": 4,
   "metadata": {},
   "outputs": [],
   "source": [
    "from utils import evaluate\n",
    "from utils import training"
   ]
  },
  {
   "cell_type": "code",
   "execution_count": 5,
   "metadata": {},
   "outputs": [],
   "source": [
    "from importlib import reload"
   ]
  },
  {
   "cell_type": "code",
   "execution_count": null,
   "metadata": {},
   "outputs": [],
   "source": []
  },
  {
   "cell_type": "markdown",
   "metadata": {},
   "source": [
    "## Loading data"
   ]
  },
  {
   "cell_type": "code",
   "execution_count": 6,
   "metadata": {},
   "outputs": [],
   "source": [
    "data_dict_re = torch.load(\"./saves/data/clean_names.pt\")"
   ]
  },
  {
   "cell_type": "code",
   "execution_count": 7,
   "metadata": {},
   "outputs": [],
   "source": [
    "data_in_char = data_dict_re[\"data_in_char\"]\n",
    "char_vocab = data_dict_re[\"char_vocab\"]"
   ]
  },
  {
   "cell_type": "code",
   "execution_count": 8,
   "metadata": {},
   "outputs": [
    {
     "name": "stdout",
     "output_type": "stream",
     "text": [
      "data length: 1137\n",
      "vocab size: 36\n"
     ]
    }
   ],
   "source": [
    "print(\"data length:\", len(data_in_char))\n",
    "print(\"vocab size:\", len(char_vocab))"
   ]
  },
  {
   "cell_type": "code",
   "execution_count": 9,
   "metadata": {
    "scrolled": false
   },
   "outputs": [
    {
     "name": "stdout",
     "output_type": "stream",
     "text": [
      "[['h', 'a', 'n', 'n', 'a', 'h', ' ', 'a', 'b', 'b', 'o', 't', 't', '<EOS>'], ['a', 'b', 'e', 'l', ' ', 't', 'r', 'e', 'e', 't', 'o', 'p', 's', '<EOS>'], ['e', 'u', 'a', 'n', ' ', 'a', 'b', 'e', 'r', 'c', 'r', 'o', 'm', 'b', 'i', 'e', '<EOS>'], ['a', 'b', 'e', 'r', 'f', 'o', 'r', 't', 'h', ' ', 'd', 'u', 'm', 'b', 'l', 'e', 'd', 'o', 'r', 'e', '<EOS>'], ['a', 'b', 'e', 'r', 'n', 'a', 't', 'h', 'y', '<EOS>']]\n"
     ]
    }
   ],
   "source": [
    "print(data_in_char[:5])"
   ]
  },
  {
   "cell_type": "code",
   "execution_count": 10,
   "metadata": {},
   "outputs": [],
   "source": [
    "char_to_ix = {ch:i for i,ch in enumerate(char_vocab)}\n",
    "ix_to_char = {i:ch for ch,i in char_to_ix.items()}"
   ]
  },
  {
   "cell_type": "code",
   "execution_count": 11,
   "metadata": {},
   "outputs": [
    {
     "data": {
      "text/plain": [
       "{0: '<EOS>',\n",
       " 1: ' ',\n",
       " 2: 'a',\n",
       " 3: 'b',\n",
       " 4: 'c',\n",
       " 5: 'd',\n",
       " 6: 'e',\n",
       " 7: 'f',\n",
       " 8: 'g',\n",
       " 9: 'h',\n",
       " 10: 'i',\n",
       " 11: 'j',\n",
       " 12: 'k',\n",
       " 13: 'l',\n",
       " 14: 'm',\n",
       " 15: 'n',\n",
       " 16: 'o',\n",
       " 17: 'p',\n",
       " 18: 'q',\n",
       " 19: 'r',\n",
       " 20: 's',\n",
       " 21: 't',\n",
       " 22: 'u',\n",
       " 23: 'v',\n",
       " 24: 'w',\n",
       " 25: 'x',\n",
       " 26: 'y',\n",
       " 27: 'z',\n",
       " 28: 'á',\n",
       " 29: 'ã',\n",
       " 30: 'ä',\n",
       " 31: 'ç',\n",
       " 32: 'é',\n",
       " 33: 'ó',\n",
       " 34: 'ü',\n",
       " 35: '<PAD>'}"
      ]
     },
     "execution_count": 11,
     "metadata": {},
     "output_type": "execute_result"
    }
   ],
   "source": [
    "ix_to_char"
   ]
  },
  {
   "cell_type": "code",
   "execution_count": 12,
   "metadata": {},
   "outputs": [],
   "source": [
    "class Dataset(torch.utils.data.Dataset):\n",
    "    def __init__(self, data_as_str, _map, batched):\n",
    "        self.batched = batched\n",
    "        \n",
    "        self.data_as_int = []\n",
    "        self.max_seqlen = float(\"-inf\")\n",
    "        self.min_seqlen = float(\"inf\")\n",
    "        \n",
    "        # Convert data to integers\n",
    "        for seq_as_str in data_as_str:\n",
    "            seq_as_int = evaluate.keys_to_values(seq_as_str, _map,\n",
    "                random.choice(list(_map)))\n",
    "            \n",
    "            self.data_as_int.append(seq_as_int)\n",
    "            self.max_seqlen = max(self.max_seqlen, len(seq_as_int)-1)\n",
    "            self.min_seqlen = min(self.min_seqlen, len(seq_as_int)-1)\n",
    "\n",
    "    def __len__(self):\n",
    "        return len(self.data_as_int)\n",
    "\n",
    "    def __getitem__(self, ix):\n",
    "        # Get data sample at index, ix\n",
    "        item = self.data_as_int[ix]\n",
    "        PAD_ix = char_to_ix[\"<PAD>\"]\n",
    "        \n",
    "        # Slice x and y from sample\n",
    "        x_pad = item[:-1]\n",
    "        x_len = len(x_pad)\n",
    "        y_pad = item[ 1:]\n",
    "        \n",
    "        # Pad x and y to self.max_seqlen, if self.batched is True\n",
    "        if self.batched:\n",
    "            x_pad += ([PAD_ix] * (self.max_seqlen - len(x_pad)))\n",
    "            y_pad += ([PAD_ix] * (self.max_seqlen - len(y_pad)))\n",
    "            \n",
    "        return (torch.tensor(x_pad), torch.tensor(x_len)), torch.tensor(y_pad)"
   ]
  },
  {
   "cell_type": "code",
   "execution_count": 13,
   "metadata": {
    "scrolled": true
   },
   "outputs": [],
   "source": [
    "dataset = Dataset(data_in_char, char_to_ix, batched=True)\n",
    "dataloader = DataLoader(dataset, 16, True)"
   ]
  },
  {
   "cell_type": "code",
   "execution_count": 14,
   "metadata": {},
   "outputs": [
    {
     "name": "stdout",
     "output_type": "stream",
     "text": [
      "Dataset size: 1137\n",
      "Max sequence length: 46\n",
      "Min sequence length: 2\n"
     ]
    }
   ],
   "source": [
    "print(\"Dataset size:\", len(dataset))\n",
    "print(\"Max sequence length:\", dataset.max_seqlen)\n",
    "print(\"Min sequence length:\", dataset.min_seqlen)"
   ]
  },
  {
   "cell_type": "markdown",
   "metadata": {},
   "source": [
    "## Model"
   ]
  },
  {
   "cell_type": "code",
   "execution_count": 15,
   "metadata": {},
   "outputs": [],
   "source": [
    "class Model(nn.Module):\n",
    "    def __init__(self, _map, hidden_size, emb_dim=8, n_layers=1, dropout_p=0.2):\n",
    "        \"\"\"\n",
    "        Input:\n",
    "            _map: char_to_ix.\n",
    "            hidden_size: Number of features to learn.\n",
    "            emb_dim: Size of embedding vector.\n",
    "            n_layers: Number of layers.\n",
    "            dropout_p: Dropout probability.\n",
    "        \"\"\"\n",
    "        super(Model, self).__init__()\n",
    "        \n",
    "        self.vocab_size  = len(_map)\n",
    "        self.hidden_size = hidden_size\n",
    "        self.emb_dim     = emb_dim\n",
    "        self.n_layers    = n_layers\n",
    "        self.dropout_p   = dropout_p\n",
    "        \n",
    "        self.embedding = nn.Embedding(\n",
    "            num_embeddings=self.vocab_size,\n",
    "            embedding_dim =self.emb_dim,\n",
    "            padding_idx   =_map[\"<PAD>\"])\n",
    "        \n",
    "        self.lstm = nn.LSTM(\n",
    "            input_size =self.emb_dim,\n",
    "            hidden_size=self.hidden_size,\n",
    "            num_layers =self.n_layers,\n",
    "            batch_first=True)\n",
    "        \n",
    "        self.dropout = nn.Dropout(self.dropout_p)\n",
    "        \n",
    "        self.fc = nn.Linear(\n",
    "            in_features =self.hidden_size,\n",
    "            out_features=self.vocab_size - 1)\n",
    "        \n",
    "    def forward(self, x, prev_state):\n",
    "        \"\"\"\n",
    "        Input:\n",
    "            x: (x, x_len)\n",
    "            prev_state: The previous state.\n",
    "            \n",
    "        Output:\n",
    "            out: The output of the model.\n",
    "            state: The current state.\n",
    "        \"\"\"\n",
    "        n_b, n_s = x[0].shape\n",
    "        batched = True if (n_b>1 or len(x)>1) else False\n",
    "        \n",
    "        embed = self.embedding(x[0])\n",
    "        \n",
    "        # Pack-pad embeddings if x is batched\n",
    "        if batched:\n",
    "            embed = nn.utils.rnn.pack_padded_sequence(\n",
    "                embed, x[1], True, False)\n",
    "            \n",
    "        yhat, state = self.lstm(embed, prev_state)\n",
    "        \n",
    "        # Un-pack-pad the lstm output\n",
    "        if batched:\n",
    "            yhat, _ = nn.utils.rnn.pad_packed_sequence(\n",
    "                yhat, True, total_length=n_s)\n",
    "            \n",
    "        yhat = self.dropout(yhat)\n",
    "        out = self.fc(yhat)\n",
    "        return out, state\n",
    "    \n",
    "    def init_state(self, b_size=1):\n",
    "        return (torch.zeros(self.n_layers, b_size, self.hidden_size),\n",
    "                torch.zeros(self.n_layers, b_size, self.hidden_size))"
   ]
  },
  {
   "cell_type": "code",
   "execution_count": 16,
   "metadata": {
    "scrolled": false
   },
   "outputs": [
    {
     "data": {
      "text/plain": [
       "Model(\n",
       "  (embedding): Embedding(36, 8, padding_idx=35)\n",
       "  (lstm): LSTM(8, 64, num_layers=3, batch_first=True)\n",
       "  (dropout): Dropout(p=0.2, inplace=False)\n",
       "  (fc): Linear(in_features=64, out_features=35, bias=True)\n",
       ")"
      ]
     },
     "execution_count": 16,
     "metadata": {},
     "output_type": "execute_result"
    }
   ],
   "source": [
    "model = Model(char_to_ix, 64, 8, n_layers=3, dropout_p=0.2)\n",
    "model"
   ]
  },
  {
   "cell_type": "code",
   "execution_count": null,
   "metadata": {},
   "outputs": [],
   "source": []
  },
  {
   "cell_type": "code",
   "execution_count": 17,
   "metadata": {},
   "outputs": [],
   "source": [
    "loss_history = []"
   ]
  },
  {
   "cell_type": "code",
   "execution_count": null,
   "metadata": {},
   "outputs": [],
   "source": []
  },
  {
   "cell_type": "markdown",
   "metadata": {},
   "source": [
    "## Loading and Saving Model"
   ]
  },
  {
   "cell_type": "code",
   "execution_count": 18,
   "metadata": {},
   "outputs": [],
   "source": [
    "def load_model(path):\n",
    "    m_data = torch.load(path)\n",
    "    \n",
    "    m = Model(\n",
    "        _map       =m_data[\"_map\"],\n",
    "        hidden_size=m_data[\"hidden_size\"],\n",
    "        emb_dim    =m_data[\"emb_dim\"],\n",
    "        n_layers   =m_data[\"n_layers\"],\n",
    "        dropout_p  =m_data[\"dropout_p\"])\n",
    "    \n",
    "    m.load_state_dict(m_data[\"state_dict\"])\n",
    "    l_hist = m_data[\"loss_history\"]\n",
    "    return m, l_hist"
   ]
  },
  {
   "cell_type": "markdown",
   "metadata": {},
   "source": [
    "**Uncomment cell to load the trained model**"
   ]
  },
  {
   "cell_type": "code",
   "execution_count": 220,
   "metadata": {},
   "outputs": [
    {
     "data": {
      "text/plain": [
       "Model(\n",
       "  (embedding): Embedding(36, 8, padding_idx=35)\n",
       "  (lstm): LSTM(8, 64, batch_first=True)\n",
       "  (dropout): Dropout(p=0.2, inplace=False)\n",
       "  (fc): Linear(in_features=64, out_features=35, bias=True)\n",
       ")"
      ]
     },
     "execution_count": 220,
     "metadata": {},
     "output_type": "execute_result"
    }
   ],
   "source": [
    " model, loss_history = load_model(\"./saves/model/name_batch.pt\")\n",
    " "
   ]
  },
  {
   "cell_type": "code",
   "execution_count": null,
   "metadata": {},
   "outputs": [],
   "source": []
  },
  {
   "cell_type": "code",
   "execution_count": 19,
   "metadata": {},
   "outputs": [],
   "source": [
    "def save_model(m, l_hist, _map, path=None):\n",
    "    if not path: path = \"./saves/model/name_batch.pt\"\n",
    "        \n",
    "    m_data = {\n",
    "        \"_map\"        : _map,\n",
    "        \"hidden_size\" : m.hidden_size,\n",
    "        \"emb_dim\"     : m.emb_dim,\n",
    "        \"n_layers\"    : m.n_layers,\n",
    "        \"dropout_p\"   : m.dropout_p,\n",
    "        \"state_dict\"  : m.state_dict(),\n",
    "        \"loss_history\": l_hist}\n",
    "    torch.save(m_data, path)"
   ]
  },
  {
   "cell_type": "code",
   "execution_count": null,
   "metadata": {},
   "outputs": [],
   "source": []
  },
  {
   "cell_type": "markdown",
   "metadata": {},
   "source": [
    "## Training"
   ]
  },
  {
   "cell_type": "code",
   "execution_count": 20,
   "metadata": {},
   "outputs": [],
   "source": [
    "criterion = nn.CrossEntropyLoss(ignore_index=char_to_ix[\"<PAD>\"])"
   ]
  },
  {
   "cell_type": "code",
   "execution_count": 21,
   "metadata": {},
   "outputs": [
    {
     "data": {
      "text/plain": [
       "<torch.utils.data.dataloader.DataLoader at 0x7fb64c00a490>"
      ]
     },
     "execution_count": 21,
     "metadata": {},
     "output_type": "execute_result"
    }
   ],
   "source": [
    "dataloader"
   ]
  },
  {
   "cell_type": "code",
   "execution_count": 22,
   "metadata": {
    "scrolled": true
   },
   "outputs": [
    {
     "name": "stdout",
     "output_type": "stream",
     "text": [
      "Iteration:  200/1000, Loss:   3.1011\n",
      "Iteration:  400/1000, Loss:   2.9700\n",
      "Iteration:  600/1000, Loss:   2.8735\n",
      "Iteration:  800/1000, Loss:   2.7375\n",
      "Iteration: 1000/1000, Loss:   2.6004\n",
      "\n",
      "==================================================\n",
      "Round:  1 of 10, Running Time:   31.10 sec\n",
      "==================================================\n",
      "\n",
      "Iteration:  200/1000, Loss:   2.5319\n",
      "Iteration:  400/1000, Loss:   2.4847\n",
      "Iteration:  600/1000, Loss:   2.4405\n",
      "Iteration:  800/1000, Loss:   2.3994\n",
      "Iteration: 1000/1000, Loss:   2.3563\n",
      "\n",
      "==================================================\n",
      "Round:  2 of 10, Running Time:   62.46 sec\n",
      "==================================================\n",
      "\n",
      "Iteration:  200/1000, Loss:   2.3242\n",
      "Iteration:  400/1000, Loss:   2.2711\n",
      "Iteration:  600/1000, Loss:   2.2331\n",
      "Iteration:  800/1000, Loss:   2.1945\n",
      "Iteration: 1000/1000, Loss:   2.1486\n",
      "\n",
      "==================================================\n",
      "Round:  3 of 10, Running Time:   93.88 sec\n",
      "==================================================\n",
      "\n",
      "Iteration:  200/1000, Loss:   2.1150\n",
      "Iteration:  400/1000, Loss:   2.0773\n",
      "Iteration:  600/1000, Loss:   2.0355\n",
      "Iteration:  800/1000, Loss:   1.9967\n",
      "Iteration: 1000/1000, Loss:   1.9511\n",
      "\n",
      "==================================================\n",
      "Round:  4 of 10, Running Time:  124.37 sec\n",
      "==================================================\n",
      "\n",
      "Iteration:  200/1000, Loss:   1.9133\n",
      "Iteration:  400/1000, Loss:   1.8749\n",
      "Iteration:  600/1000, Loss:   1.8430\n",
      "Iteration:  800/1000, Loss:   1.8032\n",
      "Iteration: 1000/1000, Loss:   1.7561\n",
      "\n",
      "==================================================\n",
      "Round:  5 of 10, Running Time:  154.82 sec\n",
      "==================================================\n",
      "\n",
      "Iteration:  200/1000, Loss:   1.7229\n",
      "Iteration:  400/1000, Loss:   1.6706\n",
      "Iteration:  600/1000, Loss:   1.6472\n",
      "Iteration:  800/1000, Loss:   1.6054\n",
      "Iteration: 1000/1000, Loss:   1.5716\n",
      "\n",
      "==================================================\n",
      "Round:  6 of 10, Running Time:  184.90 sec\n",
      "==================================================\n",
      "\n",
      "Iteration:  200/1000, Loss:   1.5346\n",
      "Iteration:  400/1000, Loss:   1.5055\n",
      "Iteration:  600/1000, Loss:   1.4646\n",
      "Iteration:  800/1000, Loss:   1.4302\n",
      "Iteration: 1000/1000, Loss:   1.4110\n",
      "\n",
      "==================================================\n",
      "Round:  7 of 10, Running Time:  215.02 sec\n",
      "==================================================\n",
      "\n",
      "Iteration:  200/1000, Loss:   1.3817\n",
      "Iteration:  400/1000, Loss:   1.3462\n",
      "Iteration:  600/1000, Loss:   1.3032\n",
      "Iteration:  800/1000, Loss:   1.2898\n",
      "Iteration: 1000/1000, Loss:   1.2538\n",
      "\n",
      "==================================================\n",
      "Round:  8 of 10, Running Time:  245.46 sec\n",
      "==================================================\n",
      "\n",
      "Iteration:  200/1000, Loss:   1.2276\n",
      "Iteration:  400/1000, Loss:   1.2050\n",
      "Iteration:  600/1000, Loss:   1.1776\n",
      "Iteration:  800/1000, Loss:   1.1525\n",
      "Iteration: 1000/1000, Loss:   1.1321\n",
      "\n",
      "==================================================\n",
      "Round:  9 of 10, Running Time:  275.95 sec\n",
      "==================================================\n",
      "\n",
      "Iteration:  200/1000, Loss:   1.1104\n",
      "Iteration:  400/1000, Loss:   1.0847\n",
      "Iteration:  600/1000, Loss:   1.0615\n",
      "Iteration:  800/1000, Loss:   1.0395\n",
      "Iteration: 1000/1000, Loss:   1.0264\n",
      "\n",
      "==================================================\n",
      "Round: 10 of 10, Running Time:  307.24 sec\n",
      "==================================================\n",
      "\n"
     ]
    }
   ],
   "source": [
    "iteration = 10000\n",
    "per_iter = 1000\n",
    "start_t = time.time()\n",
    "\n",
    "for _ti in range(iteration//per_iter):\n",
    "    model, costs = training.train(\n",
    "        model, dataloader, per_iter, criterion, clip=0.25, lr=1e-3, print_every=200)\n",
    "    \n",
    "    loss_history.extend(costs)\n",
    "    save_model(model, loss_history, char_to_ix)\n",
    "    time.sleep(5)\n",
    "    \n",
    "    print(\"\\n\" + \"=\"*50)\n",
    "    print(\"Round: {:2} of {:2}, Running Time: {:7.2f} sec\".format(\n",
    "        _ti+1, iteration//per_iter, time.time() - start_t))\n",
    "    print(\"=\"*50 + \"\\n\")"
   ]
  },
  {
   "cell_type": "code",
   "execution_count": null,
   "metadata": {},
   "outputs": [],
   "source": []
  },
  {
   "cell_type": "code",
   "execution_count": 23,
   "metadata": {
    "scrolled": true
   },
   "outputs": [
    {
     "data": {
      "text/plain": [
       "[<matplotlib.lines.Line2D at 0x7fb5f8371040>]"
      ]
     },
     "execution_count": 23,
     "metadata": {},
     "output_type": "execute_result"
    },
    {
     "data": {
      "image/png": "[encoded data removed]",
      "text/plain": [
       "<Figure size 432x288 with 1 Axes>"
      ]
     },
     "metadata": {
      "needs_background": "light"
     },
     "output_type": "display_data"
    }
   ],
   "source": [
    "cum = 50\n",
    "plt.xlabel(\"Iteration\")\n",
    "plt.ylabel(\"Cross-Entropy Loss\")\n",
    "plt.plot(\n",
    "    [sum(loss_history[i:i+cum])/cum for i in range(0, len(loss_history), cum)])"
   ]
  },
  {
   "cell_type": "code",
   "execution_count": 24,
   "metadata": {
    "scrolled": false
   },
   "outputs": [
    {
     "name": "stdout",
     "output_type": "stream",
     "text": [
      "Iter: 10000 | Min: 0.5205 | Max: 3.9286 | Last: 0.9852 | Ave: 1.8078\n"
     ]
    }
   ],
   "source": [
    "print(\"Iter: {} | Min: {:.4f} | Max: {:.4f} | Last: {:.4f} | Ave: {:.4f}\".format(\n",
    "    len(loss_history), min(loss_history), max(loss_history), loss_history[-1],\n",
    "    sum(loss_history)/len(loss_history)))"
   ]
  },
  {
   "cell_type": "code",
   "execution_count": null,
   "metadata": {},
   "outputs": [],
   "source": []
  },
  {
   "cell_type": "markdown",
   "metadata": {},
   "source": [
    "## Evaluating"
   ]
  },
  {
   "cell_type": "code",
   "execution_count": 25,
   "metadata": {},
   "outputs": [],
   "source": [
    "n_samp = 100\n",
    "ix_list = list(char_to_ix.values())[1:-1]"
   ]
  },
  {
   "cell_type": "code",
   "execution_count": 26,
   "metadata": {},
   "outputs": [
    {
     "name": "stdout",
     "output_type": "stream",
     "text": [
      "Duplicates: 4 of 100\n",
      "  4.00% recall\n",
      " 96.00% original\n"
     ]
    }
   ],
   "source": [
    "originality = evaluate.originality(\n",
    "    n_samp, dataset.data_as_int, evaluate.sample, model, ix_list,\n",
    "    4, False, dataset.max_seqlen, char_to_ix[\"<EOS>\"])"
   ]
  },
  {
   "cell_type": "code",
   "execution_count": null,
   "metadata": {},
   "outputs": [],
   "source": []
  },
  {
   "cell_type": "markdown",
   "metadata": {},
   "source": [
    "Initialise sampling with a **randomly chosen character**"
   ]
  },
  {
   "cell_type": "code",
   "execution_count": 27,
   "metadata": {
    "scrolled": false
   },
   "outputs": [
    {
     "name": "stdout",
     "output_type": "stream",
     "text": [
      "á => áirela black<EOS>\n",
      "c => carros leran<EOS>\n",
      "v => violetta foul<EOS>\n",
      "ü => ülmar crimberton<EOS>\n",
      "ó => óyan lorscewout<EOS>\n",
      "u => urg the umbian<EOS>\n",
      "i => irg ambary hillitt<EOS>\n",
      "k => kevin bergot<EOS>\n",
      "  =>  heirpa rughert<EOS>\n",
      "l => larda rumberd<EOS>\n",
      "j => josef wronski<EOS>\n",
      "s => semtie werma<EOS>\n",
      "i => irninste<EOS>\n",
      "c => calpholthusk fakermone<EOS>\n",
      "o => olymme rake<EOS>\n",
      "ü => ündolit black<EOS>\n",
      "g => gamrick rawless<EOS>\n",
      "o => ordan the billacord<EOS>\n",
      "o => oliver ringe<EOS>\n",
      "ã => ãóóããããããäeenia croke<EOS>\n",
      "f => fenrax lockal<EOS>\n",
      "y => yalsun gory<EOS>\n",
      "x => xerildont<EOS>\n",
      "é => éthink<EOS>\n",
      "ó => óvurdor murgle<EOS>\n",
      "f => flin robott<EOS>\n",
      "ã => ãäidy tuckle bontwone<EOS>\n",
      "t => tiny moun<EOS>\n",
      "m => mary eadeieiua blaccwealel<EOS>\n",
      "s => stumby breadgle lockirs<EOS>\n"
     ]
    }
   ],
   "source": [
    "for i in range(30):\n",
    "    seed = random.choice(ix_list)\n",
    "    \n",
    "    print(ix_to_char[seed], \"=>\", \"\".join(evaluate.keys_to_values(\n",
    "        evaluate.sample(model, seed, 5, False, 30, char_to_ix[\"<EOS>\"]),\n",
    "        ix_to_char, \"<?>\")))"
   ]
  },
  {
   "cell_type": "code",
   "execution_count": null,
   "metadata": {},
   "outputs": [],
   "source": []
  },
  {
   "cell_type": "markdown",
   "metadata": {},
   "source": [
    "Initialise sampling with **a list of characters** instead of a single character"
   ]
  },
  {
   "cell_type": "code",
   "execution_count": 32,
   "metadata": {
    "scrolled": false
   },
   "outputs": [
    {
     "name": "stdout",
     "output_type": "stream",
     "text": [
      "julia => julia sama rame<EOS>\n",
      "julia => julia stict<EOS>\n",
      "julia => julia luccurin<EOS>\n",
      "julia => julia bashrilbey<EOS>\n",
      "julia => julia guande<EOS>\n",
      "julia => julia scrame<EOS>\n",
      "julia => julia lankith ovy<EOS>\n",
      "julia => julia black<EOS>\n",
      "julia => julia stiir woot<EOS>\n",
      "julia => julia santurriandowoy<EOS>\n"
     ]
    }
   ],
   "source": [
    "for i in range(10):\n",
    "    word = \"julia\"\n",
    "    seed = evaluate.keys_to_values(list(word), char_to_ix, char_to_ix[\"<PAD>\"])\n",
    "    \n",
    "    print(word, \"=>\", \"\".join(evaluate.keys_to_values(\n",
    "        evaluate.sample(model, seed, 5, False, 30, char_to_ix[\"<EOS>\"]),\n",
    "        ix_to_char, \"<?>\")))"
   ]
  },
  {
   "cell_type": "code",
   "execution_count": null,
   "metadata": {},
   "outputs": [],
   "source": []
  },
  {
   "cell_type": "markdown",
   "metadata": {},
   "source": [
    "Sample the next **most likely character** instead of the next **topk most likely characters**"
   ]
  },
  {
   "cell_type": "code",
   "execution_count": 29,
   "metadata": {
    "scrolled": false
   },
   "outputs": [
    {
     "name": "stdout",
     "output_type": "stream",
     "text": [
      "<EOS> => <EOS>hifgory ruk<EOS>\n",
      "----  =>  lavinal stumbey<EOS>\n",
      "----a => archie aymslowe<EOS>\n",
      "----b => barnabas cuffe<EOS>\n",
      "----c => carlos clodooddo<EOS>\n",
      "----d => darier black<EOS>\n",
      "----e => elias story<EOS>\n",
      "----f => frank bones<EOS>\n",
      "----g => gridgor<EOS>\n",
      "----h => hermena barshort<EOS>\n",
      "----i => irma crabbe<EOS>\n",
      "----j => josef wranla<EOS>\n",
      "----k => king hontamey<EOS>\n",
      "----l => landendina jambort<EOS>\n",
      "----m => mary morkins<EOS>\n",
      "----n => nidy caldon<EOS>\n",
      "----o => oliver ringe<EOS>\n",
      "----p => professor mordincut<EOS>\n",
      "----q => quintia qurarelle<EOS>\n",
      "----r => rodelina flankey<EOS>\n",
      "----s => stubby balbitt<EOS>\n",
      "----t => the grey le the hant<EOS>\n",
      "----u => uncle biliande<EOS>\n",
      "----v => violetta bob william sornane<EOS>\n",
      "----w => williamson<EOS>\n",
      "----x => xarius sterwroc<EOS>\n",
      "----y => yann flemot<EOS>\n",
      "----z => zacharias smith<EOS>\n",
      "----á => áannledo boot<EOS>\n",
      "----ã => ãóóããããããããããããããããããããããóóóóó\n",
      "----ä => äargar the longan<EOS>\n",
      "----ç => çilly poddere<EOS>\n",
      "----é => éudnertt<EOS>\n",
      "----ó => óyan lorcicie pattermon<EOS>\n",
      "----ü => ürchie<EOS>\n",
      "<PAD> => <PAD>orzis potter<EOS>\n"
     ]
    }
   ],
   "source": [
    "for ch in char_vocab:\n",
    "    seed = char_to_ix[ch]\n",
    "    \n",
    "    print(\"{:->5}\".format(ch), \"=>\", \"\".join(evaluate.keys_to_values(\n",
    "        evaluate.sample(model, seed, 1, True, 30, char_to_ix[\"<EOS>\"]),\n",
    "        ix_to_char, \"<?>\")))"
   ]
  },
  {
   "cell_type": "code",
   "execution_count": null,
   "metadata": {},
   "outputs": [],
   "source": []
  },
  {
   "cell_type": "code",
   "execution_count": null,
   "metadata": {},
   "outputs": [],
   "source": []
  },
  {
   "cell_type": "code",
   "execution_count": null,
   "metadata": {},
   "outputs": [],
   "source": []
  },
  {
   "cell_type": "code",
   "execution_count": null,
   "metadata": {},
   "outputs": [],
   "source": []
  },
  {
   "cell_type": "code",
   "execution_count": null,
   "metadata": {},
   "outputs": [],
   "source": []
  }
 ],
 "metadata": {
  "kernelspec": {
   "display_name": "Python 3",
   "language": "python",
   "name": "python3"
  },
  "language_info": {
   "codemirror_mode": {
    "name": "ipython",
    "version": 3
   },
   "file_extension": ".py",
   "mimetype": "text/x-python",
   "name": "python",
   "nbconvert_exporter": "python",
   "pygments_lexer": "ipython3",
   "version": "3.8.5"
  },
  "latex_envs": {
   "LaTeX_envs_menu_present": true,
   "autoclose": false,
   "autocomplete": true,
   "bibliofile": "biblio.bib",
   "cite_by": "apalike",
   "current_citInitial": 1,
   "eqLabelWithNumbers": true,
   "eqNumInitial": 1,
   "hotkeys": {
    "equation": "Ctrl-E",
    "itemize": "Ctrl-I"
   },
   "labels_anchors": false,
   "latex_user_defs": false,
   "report_style_numbering": false,
   "user_envs_cfg": false
  },
  "toc": {
   "base_numbering": 1,
   "nav_menu": {},
   "number_sections": true,
   "sideBar": true,
   "skip_h1_title": false,
   "title_cell": "Table of Contents",
   "title_sidebar": "Contents",
   "toc_cell": false,
   "toc_position": {},
   "toc_section_display": true,
   "toc_window_display": false
  },
  "varInspector": {
   "cols": {
    "lenName": 16,
    "lenType": 16,
    "lenVar": 40
   },
   "kernels_config": {
    "python": {
     "delete_cmd_postfix": "",
     "delete_cmd_prefix": "del ",
     "library": "var_list.py",
     "varRefreshCmd": "print(var_dic_list())"
    },
    "r": {
     "delete_cmd_postfix": ") ",
     "delete_cmd_prefix": "rm(",
     "library": "var_list.r",
     "varRefreshCmd": "cat(var_dic_list()) "
    }
   },
   "types_to_exclude": [
    "module",
    "function",
    "builtin_function_or_method",
    "instance",
    "_Feature"
   ],
   "window_display": false
  }
 },
 "nbformat": 4,
 "nbformat_minor": 4
}
